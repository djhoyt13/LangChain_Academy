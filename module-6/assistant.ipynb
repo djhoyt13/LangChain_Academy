{
 "cells": [
  {
   "cell_type": "markdown",
   "metadata": {},
   "source": [
    "# Assistants \n",
    "\n",
    "[Assistants](https://langchain-ai.github.io/langgraph/concepts/assistants/#resources) give developers a quick and easy way to modify and version agents for experimentation.\n",
    "\n",
    "## Supplying configuration to the graph\n",
    "\n",
    "Our `task_maistro` graph is already set up to use assistants!\n",
    "\n",
    "It has a `configuration.py` file defined and loaded in the graph.\n",
    "\n",
    "We access configurable fields (`user_id`, `todo_category`, `task_maistro_role`) inside the graph nodes.\n",
    "\n",
    "## Creating assistants \n",
    "\n",
    "Now, what is a practical use-case for assistants with the `task_maistro` app that we've been building?\n",
    "\n",
    "For me, it's the ability to have separate ToDo lists for different categories of tasks. \n",
    "\n",
    "For example, I want one assistant for my personal tasks and another for my work tasks.\n",
    "\n",
    "These are easily configurable using the `todo_category` and `task_maistro_role` configurable fields.\n",
    "\n",
    "![Screenshot 2024-11-18 at 9.35.55 AM.png](https://cdn.prod.website-files.com/65b8cd72835ceeacd4449a53/673d50597f4e9eae9abf4869_Screenshot%202024-11-19%20at%206.57.01%E2%80%AFPM.png)"
   ]
  },
  {
   "cell_type": "code",
   "execution_count": 1,
   "metadata": {},
   "outputs": [],
   "source": [
    "%%capture --no-stderr\n",
    "%pip install -U langgraph_sdk"
   ]
  },
  {
   "cell_type": "markdown",
   "metadata": {},
   "source": [
    "This is the default assistant that we created when we deployed the graph."
   ]
  },
  {
   "cell_type": "code",
   "execution_count": 2,
   "metadata": {},
   "outputs": [],
   "source": [
    "from langgraph_sdk import get_client\n",
    "url_for_cli_deployment = \"http://localhost:8123\"\n",
    "client = get_client(url=url_for_cli_deployment)"
   ]
  },
  {
   "cell_type": "markdown",
   "metadata": {},
   "source": [
    "### Personal assistant\n",
    "\n",
    "This is the personal assistant that I'll use to manage my personal tasks."
   ]
  },
  {
   "cell_type": "code",
   "execution_count": 3,
   "metadata": {},
   "outputs": [
    {
     "ename": "ConnectError",
     "evalue": "All connection attempts failed",
     "output_type": "error",
     "traceback": [
      "\u001b[31m---------------------------------------------------------------------------\u001b[39m",
      "\u001b[31mConnectError\u001b[39m                              Traceback (most recent call last)",
      "\u001b[36mFile \u001b[39m\u001b[32m~/Documents/LangChain_Academy/.venv/lib/python3.12/site-packages/httpx/_transports/default.py:101\u001b[39m, in \u001b[36mmap_httpcore_exceptions\u001b[39m\u001b[34m()\u001b[39m\n\u001b[32m    100\u001b[39m \u001b[38;5;28;01mtry\u001b[39;00m:\n\u001b[32m--> \u001b[39m\u001b[32m101\u001b[39m     \u001b[38;5;28;01myield\u001b[39;00m\n\u001b[32m    102\u001b[39m \u001b[38;5;28;01mexcept\u001b[39;00m \u001b[38;5;167;01mException\u001b[39;00m \u001b[38;5;28;01mas\u001b[39;00m exc:\n",
      "\u001b[36mFile \u001b[39m\u001b[32m~/Documents/LangChain_Academy/.venv/lib/python3.12/site-packages/httpx/_transports/default.py:394\u001b[39m, in \u001b[36mAsyncHTTPTransport.handle_async_request\u001b[39m\u001b[34m(self, request)\u001b[39m\n\u001b[32m    393\u001b[39m \u001b[38;5;28;01mwith\u001b[39;00m map_httpcore_exceptions():\n\u001b[32m--> \u001b[39m\u001b[32m394\u001b[39m     resp = \u001b[38;5;28;01mawait\u001b[39;00m \u001b[38;5;28mself\u001b[39m._pool.handle_async_request(req)\n\u001b[32m    396\u001b[39m \u001b[38;5;28;01massert\u001b[39;00m \u001b[38;5;28misinstance\u001b[39m(resp.stream, typing.AsyncIterable)\n",
      "\u001b[36mFile \u001b[39m\u001b[32m~/Documents/LangChain_Academy/.venv/lib/python3.12/site-packages/httpcore/_async/connection_pool.py:256\u001b[39m, in \u001b[36mAsyncConnectionPool.handle_async_request\u001b[39m\u001b[34m(self, request)\u001b[39m\n\u001b[32m    255\u001b[39m     \u001b[38;5;28;01mawait\u001b[39;00m \u001b[38;5;28mself\u001b[39m._close_connections(closing)\n\u001b[32m--> \u001b[39m\u001b[32m256\u001b[39m     \u001b[38;5;28;01mraise\u001b[39;00m exc \u001b[38;5;28;01mfrom\u001b[39;00m\u001b[38;5;250m \u001b[39m\u001b[38;5;28;01mNone\u001b[39;00m\n\u001b[32m    258\u001b[39m \u001b[38;5;66;03m# Return the response. Note that in this case we still have to manage\u001b[39;00m\n\u001b[32m    259\u001b[39m \u001b[38;5;66;03m# the point at which the response is closed.\u001b[39;00m\n",
      "\u001b[36mFile \u001b[39m\u001b[32m~/Documents/LangChain_Academy/.venv/lib/python3.12/site-packages/httpcore/_async/connection_pool.py:236\u001b[39m, in \u001b[36mAsyncConnectionPool.handle_async_request\u001b[39m\u001b[34m(self, request)\u001b[39m\n\u001b[32m    234\u001b[39m \u001b[38;5;28;01mtry\u001b[39;00m:\n\u001b[32m    235\u001b[39m     \u001b[38;5;66;03m# Send the request on the assigned connection.\u001b[39;00m\n\u001b[32m--> \u001b[39m\u001b[32m236\u001b[39m     response = \u001b[38;5;28;01mawait\u001b[39;00m connection.handle_async_request(\n\u001b[32m    237\u001b[39m         pool_request.request\n\u001b[32m    238\u001b[39m     )\n\u001b[32m    239\u001b[39m \u001b[38;5;28;01mexcept\u001b[39;00m ConnectionNotAvailable:\n\u001b[32m    240\u001b[39m     \u001b[38;5;66;03m# In some cases a connection may initially be available to\u001b[39;00m\n\u001b[32m    241\u001b[39m     \u001b[38;5;66;03m# handle a request, but then become unavailable.\u001b[39;00m\n\u001b[32m    242\u001b[39m     \u001b[38;5;66;03m#\u001b[39;00m\n\u001b[32m    243\u001b[39m     \u001b[38;5;66;03m# In this case we clear the connection and try again.\u001b[39;00m\n",
      "\u001b[36mFile \u001b[39m\u001b[32m~/Documents/LangChain_Academy/.venv/lib/python3.12/site-packages/httpcore/_async/connection.py:101\u001b[39m, in \u001b[36mAsyncHTTPConnection.handle_async_request\u001b[39m\u001b[34m(self, request)\u001b[39m\n\u001b[32m    100\u001b[39m     \u001b[38;5;28mself\u001b[39m._connect_failed = \u001b[38;5;28;01mTrue\u001b[39;00m\n\u001b[32m--> \u001b[39m\u001b[32m101\u001b[39m     \u001b[38;5;28;01mraise\u001b[39;00m exc\n\u001b[32m    103\u001b[39m \u001b[38;5;28;01mreturn\u001b[39;00m \u001b[38;5;28;01mawait\u001b[39;00m \u001b[38;5;28mself\u001b[39m._connection.handle_async_request(request)\n",
      "\u001b[36mFile \u001b[39m\u001b[32m~/Documents/LangChain_Academy/.venv/lib/python3.12/site-packages/httpcore/_async/connection.py:78\u001b[39m, in \u001b[36mAsyncHTTPConnection.handle_async_request\u001b[39m\u001b[34m(self, request)\u001b[39m\n\u001b[32m     77\u001b[39m \u001b[38;5;28;01mif\u001b[39;00m \u001b[38;5;28mself\u001b[39m._connection \u001b[38;5;129;01mis\u001b[39;00m \u001b[38;5;28;01mNone\u001b[39;00m:\n\u001b[32m---> \u001b[39m\u001b[32m78\u001b[39m     stream = \u001b[38;5;28;01mawait\u001b[39;00m \u001b[38;5;28mself\u001b[39m._connect(request)\n\u001b[32m     80\u001b[39m     ssl_object = stream.get_extra_info(\u001b[33m\"\u001b[39m\u001b[33mssl_object\u001b[39m\u001b[33m\"\u001b[39m)\n",
      "\u001b[36mFile \u001b[39m\u001b[32m~/Documents/LangChain_Academy/.venv/lib/python3.12/site-packages/httpcore/_async/connection.py:124\u001b[39m, in \u001b[36mAsyncHTTPConnection._connect\u001b[39m\u001b[34m(self, request)\u001b[39m\n\u001b[32m    123\u001b[39m \u001b[38;5;28;01masync\u001b[39;00m \u001b[38;5;28;01mwith\u001b[39;00m Trace(\u001b[33m\"\u001b[39m\u001b[33mconnect_tcp\u001b[39m\u001b[33m\"\u001b[39m, logger, request, kwargs) \u001b[38;5;28;01mas\u001b[39;00m trace:\n\u001b[32m--> \u001b[39m\u001b[32m124\u001b[39m     stream = \u001b[38;5;28;01mawait\u001b[39;00m \u001b[38;5;28mself\u001b[39m._network_backend.connect_tcp(**kwargs)\n\u001b[32m    125\u001b[39m     trace.return_value = stream\n",
      "\u001b[36mFile \u001b[39m\u001b[32m~/Documents/LangChain_Academy/.venv/lib/python3.12/site-packages/httpcore/_backends/auto.py:31\u001b[39m, in \u001b[36mAutoBackend.connect_tcp\u001b[39m\u001b[34m(self, host, port, timeout, local_address, socket_options)\u001b[39m\n\u001b[32m     30\u001b[39m \u001b[38;5;28;01mawait\u001b[39;00m \u001b[38;5;28mself\u001b[39m._init_backend()\n\u001b[32m---> \u001b[39m\u001b[32m31\u001b[39m \u001b[38;5;28;01mreturn\u001b[39;00m \u001b[38;5;28;01mawait\u001b[39;00m \u001b[38;5;28mself\u001b[39m._backend.connect_tcp(\n\u001b[32m     32\u001b[39m     host,\n\u001b[32m     33\u001b[39m     port,\n\u001b[32m     34\u001b[39m     timeout=timeout,\n\u001b[32m     35\u001b[39m     local_address=local_address,\n\u001b[32m     36\u001b[39m     socket_options=socket_options,\n\u001b[32m     37\u001b[39m )\n",
      "\u001b[36mFile \u001b[39m\u001b[32m~/Documents/LangChain_Academy/.venv/lib/python3.12/site-packages/httpcore/_backends/anyio.py:113\u001b[39m, in \u001b[36mAnyIOBackend.connect_tcp\u001b[39m\u001b[34m(self, host, port, timeout, local_address, socket_options)\u001b[39m\n\u001b[32m    108\u001b[39m exc_map = {\n\u001b[32m    109\u001b[39m     \u001b[38;5;167;01mTimeoutError\u001b[39;00m: ConnectTimeout,\n\u001b[32m    110\u001b[39m     \u001b[38;5;167;01mOSError\u001b[39;00m: ConnectError,\n\u001b[32m    111\u001b[39m     anyio.BrokenResourceError: ConnectError,\n\u001b[32m    112\u001b[39m }\n\u001b[32m--> \u001b[39m\u001b[32m113\u001b[39m \u001b[43m\u001b[49m\u001b[38;5;28;43;01mwith\u001b[39;49;00m\u001b[43m \u001b[49m\u001b[43mmap_exceptions\u001b[49m\u001b[43m(\u001b[49m\u001b[43mexc_map\u001b[49m\u001b[43m)\u001b[49m\u001b[43m:\u001b[49m\n\u001b[32m    114\u001b[39m \u001b[43m    \u001b[49m\u001b[38;5;28;43;01mwith\u001b[39;49;00m\u001b[43m \u001b[49m\u001b[43manyio\u001b[49m\u001b[43m.\u001b[49m\u001b[43mfail_after\u001b[49m\u001b[43m(\u001b[49m\u001b[43mtimeout\u001b[49m\u001b[43m)\u001b[49m\u001b[43m:\u001b[49m\n",
      "\u001b[36mFile \u001b[39m\u001b[32m/Library/Frameworks/Python.framework/Versions/3.12/lib/python3.12/contextlib.py:158\u001b[39m, in \u001b[36m_GeneratorContextManager.__exit__\u001b[39m\u001b[34m(self, typ, value, traceback)\u001b[39m\n\u001b[32m    157\u001b[39m \u001b[38;5;28;01mtry\u001b[39;00m:\n\u001b[32m--> \u001b[39m\u001b[32m158\u001b[39m     \u001b[38;5;28;43mself\u001b[39;49m\u001b[43m.\u001b[49m\u001b[43mgen\u001b[49m\u001b[43m.\u001b[49m\u001b[43mthrow\u001b[49m\u001b[43m(\u001b[49m\u001b[43mvalue\u001b[49m\u001b[43m)\u001b[49m\n\u001b[32m    159\u001b[39m \u001b[38;5;28;01mexcept\u001b[39;00m \u001b[38;5;167;01mStopIteration\u001b[39;00m \u001b[38;5;28;01mas\u001b[39;00m exc:\n\u001b[32m    160\u001b[39m     \u001b[38;5;66;03m# Suppress StopIteration *unless* it's the same exception that\u001b[39;00m\n\u001b[32m    161\u001b[39m     \u001b[38;5;66;03m# was passed to throw().  This prevents a StopIteration\u001b[39;00m\n\u001b[32m    162\u001b[39m     \u001b[38;5;66;03m# raised inside the \"with\" statement from being suppressed.\u001b[39;00m\n",
      "\u001b[36mFile \u001b[39m\u001b[32m~/Documents/LangChain_Academy/.venv/lib/python3.12/site-packages/httpcore/_exceptions.py:14\u001b[39m, in \u001b[36mmap_exceptions\u001b[39m\u001b[34m(map)\u001b[39m\n\u001b[32m     13\u001b[39m     \u001b[38;5;28;01mif\u001b[39;00m \u001b[38;5;28misinstance\u001b[39m(exc, from_exc):\n\u001b[32m---> \u001b[39m\u001b[32m14\u001b[39m         \u001b[38;5;28;01mraise\u001b[39;00m to_exc(exc) \u001b[38;5;28;01mfrom\u001b[39;00m\u001b[38;5;250m \u001b[39m\u001b[34;01mexc\u001b[39;00m\n\u001b[32m     15\u001b[39m \u001b[38;5;28;01mraise\u001b[39;00m\n",
      "\u001b[31mConnectError\u001b[39m: All connection attempts failed",
      "\nThe above exception was the direct cause of the following exception:\n",
      "\u001b[31mConnectError\u001b[39m                              Traceback (most recent call last)",
      "\u001b[36mCell\u001b[39m\u001b[36m \u001b[39m\u001b[32mIn[3]\u001b[39m\u001b[32m, line 1\u001b[39m\n\u001b[32m----> \u001b[39m\u001b[32m1\u001b[39m personal_assistant = \u001b[38;5;28;01mawait\u001b[39;00m client.assistants.create(\n\u001b[32m      2\u001b[39m     \u001b[38;5;66;03m# \"task_maistro\" is the name of a graph we deployed\u001b[39;00m\n\u001b[32m      3\u001b[39m     \u001b[33m\"\u001b[39m\u001b[33mtask_maistro\u001b[39m\u001b[33m\"\u001b[39m, \n\u001b[32m      4\u001b[39m     config={\u001b[33m\"\u001b[39m\u001b[33mconfigurable\u001b[39m\u001b[33m\"\u001b[39m: {\u001b[33m\"\u001b[39m\u001b[33mtodo_category\u001b[39m\u001b[33m\"\u001b[39m: \u001b[33m\"\u001b[39m\u001b[33mpersonal\u001b[39m\u001b[33m\"\u001b[39m}}\n\u001b[32m      5\u001b[39m )\n\u001b[32m      6\u001b[39m \u001b[38;5;28mprint\u001b[39m(personal_assistant)\n",
      "\u001b[36mFile \u001b[39m\u001b[32m~/Documents/LangChain_Academy/.venv/lib/python3.12/site-packages/langgraph_sdk/client.py:681\u001b[39m, in \u001b[36mAssistantsClient.create\u001b[39m\u001b[34m(self, graph_id, config, metadata, assistant_id, if_exists, name, headers, description)\u001b[39m\n\u001b[32m    679\u001b[39m \u001b[38;5;28;01mif\u001b[39;00m description:\n\u001b[32m    680\u001b[39m     payload[\u001b[33m\"\u001b[39m\u001b[33mdescription\u001b[39m\u001b[33m\"\u001b[39m] = description\n\u001b[32m--> \u001b[39m\u001b[32m681\u001b[39m \u001b[38;5;28;01mreturn\u001b[39;00m \u001b[38;5;28;01mawait\u001b[39;00m \u001b[38;5;28mself\u001b[39m.http.post(\u001b[33m\"\u001b[39m\u001b[33m/assistants\u001b[39m\u001b[33m\"\u001b[39m, json=payload, headers=headers)\n",
      "\u001b[36mFile \u001b[39m\u001b[32m~/Documents/LangChain_Academy/.venv/lib/python3.12/site-packages/langgraph_sdk/client.py:246\u001b[39m, in \u001b[36mHttpClient.post\u001b[39m\u001b[34m(self, path, json, headers)\u001b[39m\n\u001b[32m    244\u001b[39m \u001b[38;5;28;01mif\u001b[39;00m headers:\n\u001b[32m    245\u001b[39m     request_headers.update(headers)\n\u001b[32m--> \u001b[39m\u001b[32m246\u001b[39m r = \u001b[38;5;28;01mawait\u001b[39;00m \u001b[38;5;28mself\u001b[39m.client.post(path, headers=request_headers, content=content)\n\u001b[32m    247\u001b[39m \u001b[38;5;28;01mtry\u001b[39;00m:\n\u001b[32m    248\u001b[39m     r.raise_for_status()\n",
      "\u001b[36mFile \u001b[39m\u001b[32m~/Documents/LangChain_Academy/.venv/lib/python3.12/site-packages/httpx/_client.py:1859\u001b[39m, in \u001b[36mAsyncClient.post\u001b[39m\u001b[34m(self, url, content, data, files, json, params, headers, cookies, auth, follow_redirects, timeout, extensions)\u001b[39m\n\u001b[32m   1838\u001b[39m \u001b[38;5;28;01masync\u001b[39;00m \u001b[38;5;28;01mdef\u001b[39;00m\u001b[38;5;250m \u001b[39m\u001b[34mpost\u001b[39m(\n\u001b[32m   1839\u001b[39m     \u001b[38;5;28mself\u001b[39m,\n\u001b[32m   1840\u001b[39m     url: URL | \u001b[38;5;28mstr\u001b[39m,\n\u001b[32m   (...)\u001b[39m\u001b[32m   1852\u001b[39m     extensions: RequestExtensions | \u001b[38;5;28;01mNone\u001b[39;00m = \u001b[38;5;28;01mNone\u001b[39;00m,\n\u001b[32m   1853\u001b[39m ) -> Response:\n\u001b[32m   1854\u001b[39m \u001b[38;5;250m    \u001b[39m\u001b[33;03m\"\"\"\u001b[39;00m\n\u001b[32m   1855\u001b[39m \u001b[33;03m    Send a `POST` request.\u001b[39;00m\n\u001b[32m   1856\u001b[39m \n\u001b[32m   1857\u001b[39m \u001b[33;03m    **Parameters**: See `httpx.request`.\u001b[39;00m\n\u001b[32m   1858\u001b[39m \u001b[33;03m    \"\"\"\u001b[39;00m\n\u001b[32m-> \u001b[39m\u001b[32m1859\u001b[39m     \u001b[38;5;28;01mreturn\u001b[39;00m \u001b[38;5;28;01mawait\u001b[39;00m \u001b[38;5;28mself\u001b[39m.request(\n\u001b[32m   1860\u001b[39m         \u001b[33m\"\u001b[39m\u001b[33mPOST\u001b[39m\u001b[33m\"\u001b[39m,\n\u001b[32m   1861\u001b[39m         url,\n\u001b[32m   1862\u001b[39m         content=content,\n\u001b[32m   1863\u001b[39m         data=data,\n\u001b[32m   1864\u001b[39m         files=files,\n\u001b[32m   1865\u001b[39m         json=json,\n\u001b[32m   1866\u001b[39m         params=params,\n\u001b[32m   1867\u001b[39m         headers=headers,\n\u001b[32m   1868\u001b[39m         cookies=cookies,\n\u001b[32m   1869\u001b[39m         auth=auth,\n\u001b[32m   1870\u001b[39m         follow_redirects=follow_redirects,\n\u001b[32m   1871\u001b[39m         timeout=timeout,\n\u001b[32m   1872\u001b[39m         extensions=extensions,\n\u001b[32m   1873\u001b[39m     )\n",
      "\u001b[36mFile \u001b[39m\u001b[32m~/Documents/LangChain_Academy/.venv/lib/python3.12/site-packages/httpx/_client.py:1540\u001b[39m, in \u001b[36mAsyncClient.request\u001b[39m\u001b[34m(self, method, url, content, data, files, json, params, headers, cookies, auth, follow_redirects, timeout, extensions)\u001b[39m\n\u001b[32m   1525\u001b[39m     warnings.warn(message, \u001b[38;5;167;01mDeprecationWarning\u001b[39;00m, stacklevel=\u001b[32m2\u001b[39m)\n\u001b[32m   1527\u001b[39m request = \u001b[38;5;28mself\u001b[39m.build_request(\n\u001b[32m   1528\u001b[39m     method=method,\n\u001b[32m   1529\u001b[39m     url=url,\n\u001b[32m   (...)\u001b[39m\u001b[32m   1538\u001b[39m     extensions=extensions,\n\u001b[32m   1539\u001b[39m )\n\u001b[32m-> \u001b[39m\u001b[32m1540\u001b[39m \u001b[38;5;28;01mreturn\u001b[39;00m \u001b[38;5;28;01mawait\u001b[39;00m \u001b[38;5;28mself\u001b[39m.send(request, auth=auth, follow_redirects=follow_redirects)\n",
      "\u001b[36mFile \u001b[39m\u001b[32m~/Documents/LangChain_Academy/.venv/lib/python3.12/site-packages/httpx/_client.py:1629\u001b[39m, in \u001b[36mAsyncClient.send\u001b[39m\u001b[34m(self, request, stream, auth, follow_redirects)\u001b[39m\n\u001b[32m   1625\u001b[39m \u001b[38;5;28mself\u001b[39m._set_timeout(request)\n\u001b[32m   1627\u001b[39m auth = \u001b[38;5;28mself\u001b[39m._build_request_auth(request, auth)\n\u001b[32m-> \u001b[39m\u001b[32m1629\u001b[39m response = \u001b[38;5;28;01mawait\u001b[39;00m \u001b[38;5;28mself\u001b[39m._send_handling_auth(\n\u001b[32m   1630\u001b[39m     request,\n\u001b[32m   1631\u001b[39m     auth=auth,\n\u001b[32m   1632\u001b[39m     follow_redirects=follow_redirects,\n\u001b[32m   1633\u001b[39m     history=[],\n\u001b[32m   1634\u001b[39m )\n\u001b[32m   1635\u001b[39m \u001b[38;5;28;01mtry\u001b[39;00m:\n\u001b[32m   1636\u001b[39m     \u001b[38;5;28;01mif\u001b[39;00m \u001b[38;5;129;01mnot\u001b[39;00m stream:\n",
      "\u001b[36mFile \u001b[39m\u001b[32m~/Documents/LangChain_Academy/.venv/lib/python3.12/site-packages/httpx/_client.py:1657\u001b[39m, in \u001b[36mAsyncClient._send_handling_auth\u001b[39m\u001b[34m(self, request, auth, follow_redirects, history)\u001b[39m\n\u001b[32m   1654\u001b[39m request = \u001b[38;5;28;01mawait\u001b[39;00m auth_flow.\u001b[34m__anext__\u001b[39m()\n\u001b[32m   1656\u001b[39m \u001b[38;5;28;01mwhile\u001b[39;00m \u001b[38;5;28;01mTrue\u001b[39;00m:\n\u001b[32m-> \u001b[39m\u001b[32m1657\u001b[39m     response = \u001b[38;5;28;01mawait\u001b[39;00m \u001b[38;5;28mself\u001b[39m._send_handling_redirects(\n\u001b[32m   1658\u001b[39m         request,\n\u001b[32m   1659\u001b[39m         follow_redirects=follow_redirects,\n\u001b[32m   1660\u001b[39m         history=history,\n\u001b[32m   1661\u001b[39m     )\n\u001b[32m   1662\u001b[39m     \u001b[38;5;28;01mtry\u001b[39;00m:\n\u001b[32m   1663\u001b[39m         \u001b[38;5;28;01mtry\u001b[39;00m:\n",
      "\u001b[36mFile \u001b[39m\u001b[32m~/Documents/LangChain_Academy/.venv/lib/python3.12/site-packages/httpx/_client.py:1694\u001b[39m, in \u001b[36mAsyncClient._send_handling_redirects\u001b[39m\u001b[34m(self, request, follow_redirects, history)\u001b[39m\n\u001b[32m   1691\u001b[39m \u001b[38;5;28;01mfor\u001b[39;00m hook \u001b[38;5;129;01min\u001b[39;00m \u001b[38;5;28mself\u001b[39m._event_hooks[\u001b[33m\"\u001b[39m\u001b[33mrequest\u001b[39m\u001b[33m\"\u001b[39m]:\n\u001b[32m   1692\u001b[39m     \u001b[38;5;28;01mawait\u001b[39;00m hook(request)\n\u001b[32m-> \u001b[39m\u001b[32m1694\u001b[39m response = \u001b[38;5;28;01mawait\u001b[39;00m \u001b[38;5;28mself\u001b[39m._send_single_request(request)\n\u001b[32m   1695\u001b[39m \u001b[38;5;28;01mtry\u001b[39;00m:\n\u001b[32m   1696\u001b[39m     \u001b[38;5;28;01mfor\u001b[39;00m hook \u001b[38;5;129;01min\u001b[39;00m \u001b[38;5;28mself\u001b[39m._event_hooks[\u001b[33m\"\u001b[39m\u001b[33mresponse\u001b[39m\u001b[33m\"\u001b[39m]:\n",
      "\u001b[36mFile \u001b[39m\u001b[32m~/Documents/LangChain_Academy/.venv/lib/python3.12/site-packages/httpx/_client.py:1730\u001b[39m, in \u001b[36mAsyncClient._send_single_request\u001b[39m\u001b[34m(self, request)\u001b[39m\n\u001b[32m   1725\u001b[39m     \u001b[38;5;28;01mraise\u001b[39;00m \u001b[38;5;167;01mRuntimeError\u001b[39;00m(\n\u001b[32m   1726\u001b[39m         \u001b[33m\"\u001b[39m\u001b[33mAttempted to send an sync request with an AsyncClient instance.\u001b[39m\u001b[33m\"\u001b[39m\n\u001b[32m   1727\u001b[39m     )\n\u001b[32m   1729\u001b[39m \u001b[38;5;28;01mwith\u001b[39;00m request_context(request=request):\n\u001b[32m-> \u001b[39m\u001b[32m1730\u001b[39m     response = \u001b[38;5;28;01mawait\u001b[39;00m transport.handle_async_request(request)\n\u001b[32m   1732\u001b[39m \u001b[38;5;28;01massert\u001b[39;00m \u001b[38;5;28misinstance\u001b[39m(response.stream, AsyncByteStream)\n\u001b[32m   1733\u001b[39m response.request = request\n",
      "\u001b[36mFile \u001b[39m\u001b[32m~/Documents/LangChain_Academy/.venv/lib/python3.12/site-packages/httpx/_transports/default.py:393\u001b[39m, in \u001b[36mAsyncHTTPTransport.handle_async_request\u001b[39m\u001b[34m(self, request)\u001b[39m\n\u001b[32m    379\u001b[39m \u001b[38;5;28;01mimport\u001b[39;00m\u001b[38;5;250m \u001b[39m\u001b[34;01mhttpcore\u001b[39;00m\n\u001b[32m    381\u001b[39m req = httpcore.Request(\n\u001b[32m    382\u001b[39m     method=request.method,\n\u001b[32m    383\u001b[39m     url=httpcore.URL(\n\u001b[32m   (...)\u001b[39m\u001b[32m    391\u001b[39m     extensions=request.extensions,\n\u001b[32m    392\u001b[39m )\n\u001b[32m--> \u001b[39m\u001b[32m393\u001b[39m \u001b[43m\u001b[49m\u001b[38;5;28;43;01mwith\u001b[39;49;00m\u001b[43m \u001b[49m\u001b[43mmap_httpcore_exceptions\u001b[49m\u001b[43m(\u001b[49m\u001b[43m)\u001b[49m\u001b[43m:\u001b[49m\n\u001b[32m    394\u001b[39m \u001b[43m    \u001b[49m\u001b[43mresp\u001b[49m\u001b[43m \u001b[49m\u001b[43m=\u001b[49m\u001b[43m \u001b[49m\u001b[38;5;28;43;01mawait\u001b[39;49;00m\u001b[43m \u001b[49m\u001b[38;5;28;43mself\u001b[39;49m\u001b[43m.\u001b[49m\u001b[43m_pool\u001b[49m\u001b[43m.\u001b[49m\u001b[43mhandle_async_request\u001b[49m\u001b[43m(\u001b[49m\u001b[43mreq\u001b[49m\u001b[43m)\u001b[49m\n\u001b[32m    396\u001b[39m \u001b[38;5;28;01massert\u001b[39;00m \u001b[38;5;28misinstance\u001b[39m(resp.stream, typing.AsyncIterable)\n",
      "\u001b[36mFile \u001b[39m\u001b[32m/Library/Frameworks/Python.framework/Versions/3.12/lib/python3.12/contextlib.py:158\u001b[39m, in \u001b[36m_GeneratorContextManager.__exit__\u001b[39m\u001b[34m(self, typ, value, traceback)\u001b[39m\n\u001b[32m    156\u001b[39m     value = typ()\n\u001b[32m    157\u001b[39m \u001b[38;5;28;01mtry\u001b[39;00m:\n\u001b[32m--> \u001b[39m\u001b[32m158\u001b[39m     \u001b[38;5;28;43mself\u001b[39;49m\u001b[43m.\u001b[49m\u001b[43mgen\u001b[49m\u001b[43m.\u001b[49m\u001b[43mthrow\u001b[49m\u001b[43m(\u001b[49m\u001b[43mvalue\u001b[49m\u001b[43m)\u001b[49m\n\u001b[32m    159\u001b[39m \u001b[38;5;28;01mexcept\u001b[39;00m \u001b[38;5;167;01mStopIteration\u001b[39;00m \u001b[38;5;28;01mas\u001b[39;00m exc:\n\u001b[32m    160\u001b[39m     \u001b[38;5;66;03m# Suppress StopIteration *unless* it's the same exception that\u001b[39;00m\n\u001b[32m    161\u001b[39m     \u001b[38;5;66;03m# was passed to throw().  This prevents a StopIteration\u001b[39;00m\n\u001b[32m    162\u001b[39m     \u001b[38;5;66;03m# raised inside the \"with\" statement from being suppressed.\u001b[39;00m\n\u001b[32m    163\u001b[39m     \u001b[38;5;28;01mreturn\u001b[39;00m exc \u001b[38;5;129;01mis\u001b[39;00m \u001b[38;5;129;01mnot\u001b[39;00m value\n",
      "\u001b[36mFile \u001b[39m\u001b[32m~/Documents/LangChain_Academy/.venv/lib/python3.12/site-packages/httpx/_transports/default.py:118\u001b[39m, in \u001b[36mmap_httpcore_exceptions\u001b[39m\u001b[34m()\u001b[39m\n\u001b[32m    115\u001b[39m     \u001b[38;5;28;01mraise\u001b[39;00m\n\u001b[32m    117\u001b[39m message = \u001b[38;5;28mstr\u001b[39m(exc)\n\u001b[32m--> \u001b[39m\u001b[32m118\u001b[39m \u001b[38;5;28;01mraise\u001b[39;00m mapped_exc(message) \u001b[38;5;28;01mfrom\u001b[39;00m\u001b[38;5;250m \u001b[39m\u001b[34;01mexc\u001b[39;00m\n",
      "\u001b[31mConnectError\u001b[39m: All connection attempts failed"
     ]
    }
   ],
   "source": [
    "personal_assistant = await client.assistants.create(\n",
    "    # \"task_maistro\" is the name of a graph we deployed\n",
    "    \"task_maistro\", \n",
    "    config={\"configurable\": {\"todo_category\": \"personal\"}}\n",
    ")\n",
    "print(personal_assistant)"
   ]
  },
  {
   "cell_type": "markdown",
   "metadata": {},
   "source": [
    "Let's update this assistant to include my `user_id` for convenience, [creating a new version of it](https://langchain-ai.github.io/langgraph/cloud/how-tos/assistant_versioning/#create-a-new-version-for-your-assistant). "
   ]
  },
  {
   "cell_type": "code",
   "execution_count": 14,
   "metadata": {},
   "outputs": [
    {
     "name": "stdout",
     "output_type": "stream",
     "text": [
      "{'assistant_id': '4f83d674-22d8-4225-abe1-017ad1bc9f99', 'graph_id': 'task_maistro', 'created_at': '2024-11-15T18:21:52.073556+00:00', 'updated_at': '2024-11-15T18:21:52.073556+00:00', 'config': {'configurable': {'user_id': 'lance', 'todo_category': 'personal', 'task_maistro_role': 'You are a friendly and organized personal task assistant. Your main focus is helping users stay on top of their personal tasks and commitments. Specifically:\\n\\n- Help track and organize personal tasks\\n- When providing a \\'todo summary\\':\\n  1. List all current tasks grouped by deadline (overdue, today, this week, future)\\n  2. Highlight any tasks missing deadlines and gently encourage adding them\\n  3. Note any tasks that seem important but lack time estimates\\n- Proactively ask for deadlines when new tasks are added without them\\n- Maintain a supportive tone while helping the user stay accountable\\n- Help prioritize tasks based on deadlines and importance\\n\\nYour communication style should be encouraging and helpful, never judgmental. \\n\\nWhen tasks are missing deadlines, respond with something like \"I notice [task] doesn\\'t have a deadline yet. Would you like to add one to help us track it better?'}}, 'metadata': {}, 'version': 2, 'name': 'Untitled'}\n"
     ]
    }
   ],
   "source": [
    "task_maistro_role = \"\"\"You are a friendly and organized personal task assistant. Your main focus is helping users stay on top of their personal tasks and commitments. Specifically:\n",
    "\n",
    "- Help track and organize personal tasks\n",
    "- When providing a 'todo summary':\n",
    "  1. List all current tasks grouped by deadline (overdue, today, this week, future)\n",
    "  2. Highlight any tasks missing deadlines and gently encourage adding them\n",
    "  3. Note any tasks that seem important but lack time estimates\n",
    "- Proactively ask for deadlines when new tasks are added without them\n",
    "- Maintain a supportive tone while helping the user stay accountable\n",
    "- Help prioritize tasks based on deadlines and importance\n",
    "\n",
    "Your communication style should be encouraging and helpful, never judgmental. \n",
    "\n",
    "When tasks are missing deadlines, respond with something like \"I notice [task] doesn't have a deadline yet. Would you like to add one to help us track it better?\"\"\"\n",
    "\n",
    "configurations = {\"todo_category\": \"personal\", \n",
    "                  \"user_id\": \"lance\",\n",
    "                  \"task_maistro_role\": task_maistro_role}\n",
    "\n",
    "personal_assistant = await client.assistants.update(\n",
    "    personal_assistant[\"assistant_id\"],\n",
    "    config={\"configurable\": configurations}\n",
    ")\n",
    "print(personal_assistant)"
   ]
  },
  {
   "cell_type": "markdown",
   "metadata": {},
   "source": [
    "### Work assistant\n",
    "\n",
    "Now, let's create a work assistant. I'll use this for my work tasks."
   ]
  },
  {
   "cell_type": "code",
   "execution_count": 15,
   "metadata": {},
   "outputs": [
    {
     "name": "stdout",
     "output_type": "stream",
     "text": [
      "{'assistant_id': '34f27dd0-2e9d-47f3-aa6d-06cb7ac625fc', 'graph_id': 'task_maistro', 'created_at': '2024-11-15T18:23:05.039052+00:00', 'updated_at': '2024-11-15T18:23:05.039052+00:00', 'config': {'configurable': {'user_id': 'lance', 'todo_category': 'work', 'task_maistro_role': 'You are a focused and efficient work task assistant. \\n\\nYour main focus is helping users manage their work commitments with realistic timeframes. \\n\\nSpecifically:\\n\\n- Help track and organize work tasks\\n- When providing a \\'todo summary\\':\\n  1. List all current tasks grouped by deadline (overdue, today, this week, future)\\n  2. Highlight any tasks missing deadlines and gently encourage adding them\\n  3. Note any tasks that seem important but lack time estimates\\n- When discussing new tasks, suggest that the user provide realistic time-frames based on task type:\\n  • Developer Relations features: typically 1 day\\n  • Course lesson reviews/feedback: typically 2 days\\n  • Documentation sprints: typically 3 days\\n- Help prioritize tasks based on deadlines and team dependencies\\n- Maintain a professional tone while helping the user stay accountable\\n\\nYour communication style should be supportive but practical. \\n\\nWhen tasks are missing deadlines, respond with something like \"I notice [task] doesn\\'t have a deadline yet. Based on similar tasks, this might take [suggested timeframe]. Would you like to set a deadline with this in mind?'}}, 'metadata': {}, 'version': 1, 'name': 'Untitled'}\n"
     ]
    }
   ],
   "source": [
    "task_maistro_role = \"\"\"You are a focused and efficient work task assistant. \n",
    "\n",
    "Your main focus is helping users manage their work commitments with realistic timeframes. \n",
    "\n",
    "Specifically:\n",
    "\n",
    "- Help track and organize work tasks\n",
    "- When providing a 'todo summary':\n",
    "  1. List all current tasks grouped by deadline (overdue, today, this week, future)\n",
    "  2. Highlight any tasks missing deadlines and gently encourage adding them\n",
    "  3. Note any tasks that seem important but lack time estimates\n",
    "- When discussing new tasks, suggest that the user provide realistic time-frames based on task type:\n",
    "  • Developer Relations features: typically 1 day\n",
    "  • Course lesson reviews/feedback: typically 2 days\n",
    "  • Documentation sprints: typically 3 days\n",
    "- Help prioritize tasks based on deadlines and team dependencies\n",
    "- Maintain a professional tone while helping the user stay accountable\n",
    "\n",
    "Your communication style should be supportive but practical. \n",
    "\n",
    "When tasks are missing deadlines, respond with something like \"I notice [task] doesn't have a deadline yet. Based on similar tasks, this might take [suggested timeframe]. Would you like to set a deadline with this in mind?\"\"\"\n",
    "\n",
    "configurations = {\"todo_category\": \"work\", \n",
    "                  \"user_id\": \"lance\",\n",
    "                  \"task_maistro_role\": task_maistro_role}\n",
    "\n",
    "work_assistant = await client.assistants.create(\n",
    "    # \"task_maistro\" is the name of a graph we deployed\n",
    "    \"task_maistro\", \n",
    "    config={\"configurable\": configurations}\n",
    ")\n",
    "print(work_assistant)"
   ]
  },
  {
   "cell_type": "markdown",
   "metadata": {},
   "source": [
    "## Using assistants \n",
    "\n",
    "Assistants will be saved to `Postgres` in our deployment.  \n",
    "\n",
    "This allows us to easily search [search](https://langchain-ai.github.io/langgraph/cloud/how-tos/configuration_cloud/) for assistants with the SDK."
   ]
  },
  {
   "cell_type": "code",
   "execution_count": 16,
   "metadata": {},
   "outputs": [
    {
     "name": "stdout",
     "output_type": "stream",
     "text": [
      "{'assistant_id': '34f27dd0-2e9d-47f3-aa6d-06cb7ac625fc', 'version': 1, 'config': {'configurable': {'user_id': 'lance', 'todo_category': 'work', 'task_maistro_role': 'You are a focused and efficient work task assistant. \\n\\nYour main focus is helping users manage their work commitments with realistic timeframes. \\n\\nSpecifically:\\n\\n- Help track and organize work tasks\\n- When providing a \\'todo summary\\':\\n  1. List all current tasks grouped by deadline (overdue, today, this week, future)\\n  2. Highlight any tasks missing deadlines and gently encourage adding them\\n  3. Note any tasks that seem important but lack time estimates\\n- When discussing new tasks, suggest that the user provide realistic time-frames based on task type:\\n  • Developer Relations features: typically 1 day\\n  • Course lesson reviews/feedback: typically 2 days\\n  • Documentation sprints: typically 3 days\\n- Help prioritize tasks based on deadlines and team dependencies\\n- Maintain a professional tone while helping the user stay accountable\\n\\nYour communication style should be supportive but practical. \\n\\nWhen tasks are missing deadlines, respond with something like \"I notice [task] doesn\\'t have a deadline yet. Based on similar tasks, this might take [suggested timeframe]. Would you like to set a deadline with this in mind?'}}}\n",
      "{'assistant_id': '4f83d674-22d8-4225-abe1-017ad1bc9f99', 'version': 2, 'config': {'configurable': {'user_id': 'lance', 'todo_category': 'personal', 'task_maistro_role': 'You are a friendly and organized personal task assistant. Your main focus is helping users stay on top of their personal tasks and commitments. Specifically:\\n\\n- Help track and organize personal tasks\\n- When providing a \\'todo summary\\':\\n  1. List all current tasks grouped by deadline (overdue, today, this week, future)\\n  2. Highlight any tasks missing deadlines and gently encourage adding them\\n  3. Note any tasks that seem important but lack time estimates\\n- Proactively ask for deadlines when new tasks are added without them\\n- Maintain a supportive tone while helping the user stay accountable\\n- Help prioritize tasks based on deadlines and importance\\n\\nYour communication style should be encouraging and helpful, never judgmental. \\n\\nWhen tasks are missing deadlines, respond with something like \"I notice [task] doesn\\'t have a deadline yet. Would you like to add one to help us track it better?'}}}\n"
     ]
    }
   ],
   "source": [
    "assistants = await client.assistants.search()\n",
    "for assistant in assistants:\n",
    "    print({\n",
    "        'assistant_id': assistant['assistant_id'],\n",
    "        'version': assistant['version'],\n",
    "        'config': assistant['config']\n",
    "    })"
   ]
  },
  {
   "cell_type": "markdown",
   "metadata": {},
   "source": [
    "We can manage them easily with the SDK. For example, we can delete assistants that we're no longer using."
   ]
  },
  {
   "cell_type": "code",
   "execution_count": 51,
   "metadata": {},
   "outputs": [],
   "source": [
    "await client.assistants.delete(\"assistant_id\")"
   ]
  },
  {
   "cell_type": "markdown",
   "metadata": {},
   "source": [
    "Let's set the assistant IDs for the `personal` and `work` assistants that I'll work with."
   ]
  },
  {
   "cell_type": "code",
   "execution_count": 19,
   "metadata": {},
   "outputs": [],
   "source": [
    "work_assistant_id = assistants[0]['assistant_id']\n",
    "personal_assistant_id = assistants[1]['assistant_id']"
   ]
  },
  {
   "cell_type": "markdown",
   "metadata": {},
   "source": [
    "### Work assistant\n",
    "\n",
    "Let's add some ToDos for my work assistant."
   ]
  },
  {
   "cell_type": "code",
   "execution_count": 20,
   "metadata": {},
   "outputs": [
    {
     "name": "stdout",
     "output_type": "stream",
     "text": [
      "================================\u001b[1m Human Message \u001b[0m=================================\n",
      "\n",
      "Create or update few ToDos: 1) Re-film Module 6, lesson 5 by end of day today. 2) Update audioUX by next Monday.\n",
      "==================================\u001b[1m Ai Message \u001b[0m==================================\n",
      "Tool Calls:\n",
      "  UpdateMemory (call_jLkeZj3YIMAU0C0iGfsk0PXK)\n",
      " Call ID: call_jLkeZj3YIMAU0C0iGfsk0PXK\n",
      "  Args:\n",
      "    update_type: todo\n",
      "=================================\u001b[1m Tool Message \u001b[0m=================================\n",
      "\n",
      "Document b162a63a-5579-4d75-b943-e0747cc40e7e updated:\n",
      "Plan: Update the deadline for the task 'Re-film Module 6, lesson 5' to the end of today, which is 2024-11-15T23:59:59.\n",
      "Added content: 2024-11-15T23:59:59\n",
      "\n",
      "Document cacce3f2-2690-4b67-bf59-b3ce85e36a07 updated:\n",
      "Plan: Update the deadline for the task 'Update audioUX repo' to next Monday, which is 2024-11-18T23:59:59.\n",
      "Added content: 2024-11-18T23:59:59\n",
      "==================================\u001b[1m Ai Message \u001b[0m==================================\n",
      "\n",
      "I've updated the deadlines for your tasks:\n",
      "\n",
      "1. **Re-film Module 6, lesson 5** is now due by the end of today.\n",
      "2. **Update audioUX repo** is due by next Monday.\n",
      "\n",
      "If there's anything else you'd like to adjust or add, feel free to let me know!\n"
     ]
    }
   ],
   "source": [
    "from langchain_core.messages import HumanMessage\n",
    "from langchain_core.messages import convert_to_messages\n",
    "\n",
    "user_input = \"Create or update few ToDos: 1) Re-film Module 6, lesson 5 by end of day today. 2) Update audioUX by next Monday.\"\n",
    "thread = await client.threads.create()\n",
    "async for chunk in client.runs.stream(thread[\"thread_id\"], \n",
    "                                      work_assistant_id,\n",
    "                                      input={\"messages\": [HumanMessage(content=user_input)]},\n",
    "                                      stream_mode=\"values\"):\n",
    "\n",
    "    if chunk.event == 'values':\n",
    "        state = chunk.data\n",
    "        convert_to_messages(state[\"messages\"])[-1].pretty_print()"
   ]
  },
  {
   "cell_type": "code",
   "execution_count": 21,
   "metadata": {},
   "outputs": [
    {
     "name": "stdout",
     "output_type": "stream",
     "text": [
      "================================\u001b[1m Human Message \u001b[0m=================================\n",
      "\n",
      "Create another ToDo: Finalize set of report generation tutorials.\n",
      "==================================\u001b[1m Ai Message \u001b[0m==================================\n",
      "\n",
      "Could you provide a deadline for finalizing the set of report generation tutorials? Based on similar tasks, this might take around 2 days. Would you like to set a deadline with this in mind?\n"
     ]
    }
   ],
   "source": [
    "user_input = \"Create another ToDo: Finalize set of report generation tutorials.\"\n",
    "thread = await client.threads.create()\n",
    "async for chunk in client.runs.stream(thread[\"thread_id\"], \n",
    "                                      work_assistant_id,\n",
    "                                      input={\"messages\": [HumanMessage(content=user_input)]},\n",
    "                                      stream_mode=\"values\"):\n",
    "\n",
    "    if chunk.event == 'values':\n",
    "        state = chunk.data\n",
    "        convert_to_messages(state[\"messages\"])[-1].pretty_print()"
   ]
  },
  {
   "cell_type": "markdown",
   "metadata": {},
   "source": [
    "The assistant uses it's instructions to push back with task creation! \n",
    "\n",
    "It asks me to specify a deadline :) "
   ]
  },
  {
   "cell_type": "code",
   "execution_count": 22,
   "metadata": {},
   "outputs": [
    {
     "name": "stdout",
     "output_type": "stream",
     "text": [
      "================================\u001b[1m Human Message \u001b[0m=================================\n",
      "\n",
      "OK, for this task let's get it done by next Tuesday.\n",
      "==================================\u001b[1m Ai Message \u001b[0m==================================\n",
      "Tool Calls:\n",
      "  UpdateMemory (call_z5mz51DfFd7Akjacgxo5xhCB)\n",
      " Call ID: call_z5mz51DfFd7Akjacgxo5xhCB\n",
      "  Args:\n",
      "    update_type: todo\n",
      "=================================\u001b[1m Tool Message \u001b[0m=================================\n",
      "\n",
      "New ToDo created:\n",
      "Content: {'task': 'Finalize set of report generation tutorials', 'time_to_complete': 960, 'deadline': '2024-11-21T23:59:59', 'solutions': ['Review existing tutorial drafts', 'Incorporate feedback from peer reviews', 'Ensure all tutorials are consistent in style and format', 'Test each tutorial to ensure accuracy', 'Prepare final versions for publication'], 'status': 'not started'}\n",
      "==================================\u001b[1m Ai Message \u001b[0m==================================\n",
      "\n",
      "I've updated the deadline for finalizing the set of report generation tutorials to next Tuesday, November 21, 2024. If there's anything else you need, feel free to let me know!\n"
     ]
    }
   ],
   "source": [
    "user_input = \"OK, for this task let's get it done by next Tuesday.\"\n",
    "async for chunk in client.runs.stream(thread[\"thread_id\"], \n",
    "                                      work_assistant_id,\n",
    "                                      input={\"messages\": [HumanMessage(content=user_input)]},\n",
    "                                      stream_mode=\"values\"):\n",
    "\n",
    "    if chunk.event == 'values':\n",
    "        state = chunk.data\n",
    "        convert_to_messages(state[\"messages\"])[-1].pretty_print()"
   ]
  },
  {
   "cell_type": "markdown",
   "metadata": {},
   "source": [
    "### Personal assistant\n",
    "\n",
    "Similarly, we can add ToDos for my personal assistant."
   ]
  },
  {
   "cell_type": "code",
   "execution_count": 23,
   "metadata": {},
   "outputs": [
    {
     "name": "stdout",
     "output_type": "stream",
     "text": [
      "================================\u001b[1m Human Message \u001b[0m=================================\n",
      "\n",
      "Create ToDos: 1) Check on swim lessons for the baby this weekend. 2) For winter travel, check AmEx points.\n",
      "==================================\u001b[1m Ai Message \u001b[0m==================================\n",
      "Tool Calls:\n",
      "  UpdateMemory (call_qg6BJTH3WLd1OMwUOejH3brs)\n",
      " Call ID: call_qg6BJTH3WLd1OMwUOejH3brs\n",
      "  Args:\n",
      "    update_type: todo\n",
      "=================================\u001b[1m Tool Message \u001b[0m=================================\n",
      "\n",
      "New ToDo created:\n",
      "Content: {'task': 'Check on swim lessons for the baby this weekend', 'time_to_complete': 30, 'deadline': '2024-11-17T23:59:59', 'solutions': ['Call the local swimming pool', 'Check online for available classes', 'Confirm the schedule and fees'], 'status': 'not started'}\n",
      "\n",
      "New ToDo created:\n",
      "Content: {'task': 'For winter travel, check AmEx points', 'time_to_complete': 20, 'deadline': '2024-11-19T23:59:59', 'solutions': ['Log into AmEx account', 'Check points balance', 'Explore travel redemption options'], 'status': 'not started'}\n",
      "==================================\u001b[1m Ai Message \u001b[0m==================================\n",
      "\n",
      "I've added the tasks to your ToDo list:\n",
      "\n",
      "1. **Check on swim lessons for the baby this weekend** \n",
      "   - Deadline: November 17, 2024\n",
      "   - Estimated time to complete: 30 minutes\n",
      "   - Solutions: Call the local swimming pool, check online for available classes, confirm the schedule and fees.\n",
      "\n",
      "2. **For winter travel, check AmEx points**\n",
      "   - Deadline: November 19, 2024\n",
      "   - Estimated time to complete: 20 minutes\n",
      "   - Solutions: Log into AmEx account, check points balance, explore travel redemption options.\n",
      "\n",
      "If you have any more tasks or need to adjust these, feel free to let me know!\n"
     ]
    }
   ],
   "source": [
    "user_input = \"Create ToDos: 1) Check on swim lessons for the baby this weekend. 2) For winter travel, check AmEx points.\"\n",
    "thread = await client.threads.create()\n",
    "async for chunk in client.runs.stream(thread[\"thread_id\"], \n",
    "                                      personal_assistant_id,\n",
    "                                      input={\"messages\": [HumanMessage(content=user_input)]},\n",
    "                                      stream_mode=\"values\"):\n",
    "\n",
    "    if chunk.event == 'values':\n",
    "        state = chunk.data\n",
    "        convert_to_messages(state[\"messages\"])[-1].pretty_print()"
   ]
  },
  {
   "cell_type": "code",
   "execution_count": 24,
   "metadata": {},
   "outputs": [
    {
     "name": "stdout",
     "output_type": "stream",
     "text": [
      "================================\u001b[1m Human Message \u001b[0m=================================\n",
      "\n",
      "Give me a todo summary.\n",
      "==================================\u001b[1m Ai Message \u001b[0m==================================\n",
      "\n",
      "Here's your current to-do summary:\n",
      "\n",
      "**Overdue Tasks:**\n",
      "- None! Great job staying on top of things.\n",
      "\n",
      "**Tasks for Today:**\n",
      "- None scheduled for today.\n",
      "\n",
      "**Tasks for This Week:**\n",
      "- **Check on swim lessons for the baby this weekend** (Deadline: November 17, 2024)\n",
      "  - Estimated time to complete: 30 minutes\n",
      "  - Solutions: Call the local swimming pool, check online for available classes, confirm the schedule and fees.\n",
      "  \n",
      "- **For winter travel, check AmEx points** (Deadline: November 19, 2024)\n",
      "  - Estimated time to complete: 20 minutes\n",
      "  - Solutions: Log into AmEx account, check points balance, explore travel redemption options.\n",
      "  \n",
      "- **Finish booking winter travel** (Deadline: November 19, 2024)\n",
      "  - Estimated time to complete: 120 minutes\n",
      "  - Solutions: Compare flight prices, check accommodation options, finalize travel itinerary.\n",
      "  \n",
      "- **Call parents to plan Thanksgiving dinner** (Deadline: November 20, 2024)\n",
      "  - Estimated time to complete: 15 minutes\n",
      "  - Solutions: Set a reminder to call parents, prepare a list of dishes to discuss, check availability for Thanksgiving day.\n",
      "  \n",
      "- **Call back mom to plan Thanksgiving dinner** (Deadline: November 20, 2024)\n",
      "  - Estimated time to complete: 15 minutes\n",
      "  - Solutions: Set a reminder to call mom, prepare a list of dishes to discuss, check availability for Thanksgiving day.\n",
      "\n",
      "**Future Tasks:**\n",
      "- None at the moment.\n",
      "\n",
      "All tasks have deadlines, which is fantastic! If you have any new tasks to add or need help prioritizing, feel free to let me know.\n"
     ]
    }
   ],
   "source": [
    "user_input = \"Give me a todo summary.\"\n",
    "thread = await client.threads.create()\n",
    "async for chunk in client.runs.stream(thread[\"thread_id\"], \n",
    "                                      personal_assistant_id,\n",
    "                                      input={\"messages\": [HumanMessage(content=user_input)]},\n",
    "                                      stream_mode=\"values\"):\n",
    "\n",
    "    if chunk.event == 'values':\n",
    "        state = chunk.data\n",
    "        convert_to_messages(state[\"messages\"])[-1].pretty_print()"
   ]
  }
 ],
 "metadata": {
  "kernelspec": {
   "display_name": ".venv",
   "language": "python",
   "name": "python3"
  },
  "language_info": {
   "codemirror_mode": {
    "name": "ipython",
    "version": 3
   },
   "file_extension": ".py",
   "mimetype": "text/x-python",
   "name": "python",
   "nbconvert_exporter": "python",
   "pygments_lexer": "ipython3",
   "version": "3.12.1"
  }
 },
 "nbformat": 4,
 "nbformat_minor": 4
}
